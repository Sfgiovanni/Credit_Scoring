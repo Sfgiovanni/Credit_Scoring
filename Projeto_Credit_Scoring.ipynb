{
  "nbformat": 4,
  "nbformat_minor": 0,
  "metadata": {
    "colab": {
      "name": "Projeto_Credit_Scoring.ipynb",
      "provenance": []
    },
    "kernelspec": {
      "name": "python3",
      "display_name": "Python 3"
    },
    "language_info": {
      "name": "python"
    }
  },
  "cells": [
    {
      "cell_type": "markdown",
      "source": [
        "**Importações**"
      ],
      "metadata": {
        "id": "4sdjvK_Q2QnN"
      }
    },
    {
      "cell_type": "code",
      "execution_count": 30,
      "metadata": {
        "id": "dYV23Xp52D0H"
      },
      "outputs": [],
      "source": [
        "import pandas as pd\n",
        "import seaborn as sns\n",
        "import matplotlib.pyplot as plt\n",
        "from sklearn.model_selection import train_test_split\n",
        "from sklearn.preprocessing import LabelEncoder\n",
        "from sklearn.metrics import accuracy_score\n",
        "from sklearn.metrics import classification_report\n",
        "from sklearn.metrics import plot_confusion_matrix\n",
        "from sklearn.feature_selection import SelectKBest\n",
        "from sklearn.feature_selection import chi2\n",
        "from sklearn.linear_model import LogisticRegression\n",
        "from sklearn.tree import DecisionTreeClassifier\n",
        "from sklearn.metrics import roc_auc_score,roc_curve"
      ]
    },
    {
      "cell_type": "markdown",
      "source": [
        "**Analisando os dados**"
      ],
      "metadata": {
        "id": "uPfE-v592VC2"
      }
    },
    {
      "cell_type": "code",
      "source": [
        "df = pd.read_csv('https://raw.githubusercontent.com/alura-cursos/credit_scoring/main/base_dados_traduzida.csv')\n",
        "df.shape"
      ],
      "metadata": {
        "colab": {
          "base_uri": "https://localhost:8080/"
        },
        "id": "Pb4nawfU2X1e",
        "outputId": "6a223fcd-0edc-413a-d35f-a99de356553d"
      },
      "execution_count": 3,
      "outputs": [
        {
          "output_type": "execute_result",
          "data": {
            "text/plain": [
              "(1000, 21)"
            ]
          },
          "metadata": {},
          "execution_count": 3
        }
      ]
    },
    {
      "cell_type": "code",
      "source": [
        "df.head()"
      ],
      "metadata": {
        "colab": {
          "base_uri": "https://localhost:8080/",
          "height": 478
        },
        "id": "KTTwyQ3M2fjW",
        "outputId": "ea05357b-0d0a-4c10-ecee-723b31fed8eb"
      },
      "execution_count": 4,
      "outputs": [
        {
          "output_type": "execute_result",
          "data": {
            "text/html": [
              "\n",
              "  <div id=\"df-2e6d0d9d-052e-4f58-92fb-a577f3c13682\">\n",
              "    <div class=\"colab-df-container\">\n",
              "      <div>\n",
              "<style scoped>\n",
              "    .dataframe tbody tr th:only-of-type {\n",
              "        vertical-align: middle;\n",
              "    }\n",
              "\n",
              "    .dataframe tbody tr th {\n",
              "        vertical-align: top;\n",
              "    }\n",
              "\n",
              "    .dataframe thead th {\n",
              "        text-align: right;\n",
              "    }\n",
              "</style>\n",
              "<table border=\"1\" class=\"dataframe\">\n",
              "  <thead>\n",
              "    <tr style=\"text-align: right;\">\n",
              "      <th></th>\n",
              "      <th>default</th>\n",
              "      <th>conta_corrente</th>\n",
              "      <th>prazo_emprestimo_meses</th>\n",
              "      <th>historico_credito</th>\n",
              "      <th>proposito_emprestimo</th>\n",
              "      <th>valor_emprestimo</th>\n",
              "      <th>reserva_cc</th>\n",
              "      <th>tempo_emprego_atual</th>\n",
              "      <th>taxa_comp_salario</th>\n",
              "      <th>sexo_est_civil</th>\n",
              "      <th>outros_fiadores</th>\n",
              "      <th>anos_residencia_atual</th>\n",
              "      <th>propriedade</th>\n",
              "      <th>idade</th>\n",
              "      <th>outros_planos_financiamento</th>\n",
              "      <th>tipo_residencia</th>\n",
              "      <th>n_creditos_banco</th>\n",
              "      <th>status_emprego</th>\n",
              "      <th>n_dependentes</th>\n",
              "      <th>telefone</th>\n",
              "      <th>trabalhador_estrangeiro</th>\n",
              "    </tr>\n",
              "  </thead>\n",
              "  <tbody>\n",
              "    <tr>\n",
              "      <th>0</th>\n",
              "      <td>0</td>\n",
              "      <td>&lt; 0 DM</td>\n",
              "      <td>6</td>\n",
              "      <td>critical account/ other credits existing (not ...</td>\n",
              "      <td>domestic appliances</td>\n",
              "      <td>1169</td>\n",
              "      <td>unknown/ no savings account</td>\n",
              "      <td>.. &gt;= 7 years</td>\n",
              "      <td>4</td>\n",
              "      <td>male : single</td>\n",
              "      <td>none</td>\n",
              "      <td>4</td>\n",
              "      <td>real estate</td>\n",
              "      <td>67</td>\n",
              "      <td>none</td>\n",
              "      <td>own</td>\n",
              "      <td>2</td>\n",
              "      <td>skilled employee / official</td>\n",
              "      <td>1</td>\n",
              "      <td>yes, registered under the customers name</td>\n",
              "      <td>yes</td>\n",
              "    </tr>\n",
              "    <tr>\n",
              "      <th>1</th>\n",
              "      <td>1</td>\n",
              "      <td>0 &lt;= ... &lt; 200 DM</td>\n",
              "      <td>48</td>\n",
              "      <td>existing credits paid back duly till now</td>\n",
              "      <td>domestic appliances</td>\n",
              "      <td>5951</td>\n",
              "      <td>... &lt; 100 DM</td>\n",
              "      <td>1 &lt;= ... &lt; 4 years</td>\n",
              "      <td>2</td>\n",
              "      <td>female : divorced/separated/married</td>\n",
              "      <td>none</td>\n",
              "      <td>2</td>\n",
              "      <td>real estate</td>\n",
              "      <td>22</td>\n",
              "      <td>none</td>\n",
              "      <td>own</td>\n",
              "      <td>1</td>\n",
              "      <td>skilled employee / official</td>\n",
              "      <td>1</td>\n",
              "      <td>none</td>\n",
              "      <td>yes</td>\n",
              "    </tr>\n",
              "    <tr>\n",
              "      <th>2</th>\n",
              "      <td>0</td>\n",
              "      <td>no checking account</td>\n",
              "      <td>12</td>\n",
              "      <td>critical account/ other credits existing (not ...</td>\n",
              "      <td>(vacation - does not exist?)</td>\n",
              "      <td>2096</td>\n",
              "      <td>... &lt; 100 DM</td>\n",
              "      <td>4 &lt;= ... &lt; 7 years</td>\n",
              "      <td>2</td>\n",
              "      <td>male : single</td>\n",
              "      <td>none</td>\n",
              "      <td>3</td>\n",
              "      <td>real estate</td>\n",
              "      <td>49</td>\n",
              "      <td>none</td>\n",
              "      <td>own</td>\n",
              "      <td>1</td>\n",
              "      <td>unskilled - resident</td>\n",
              "      <td>2</td>\n",
              "      <td>none</td>\n",
              "      <td>yes</td>\n",
              "    </tr>\n",
              "    <tr>\n",
              "      <th>3</th>\n",
              "      <td>0</td>\n",
              "      <td>&lt; 0 DM</td>\n",
              "      <td>42</td>\n",
              "      <td>existing credits paid back duly till now</td>\n",
              "      <td>radio/television</td>\n",
              "      <td>7882</td>\n",
              "      <td>... &lt; 100 DM</td>\n",
              "      <td>4 &lt;= ... &lt; 7 years</td>\n",
              "      <td>2</td>\n",
              "      <td>male : single</td>\n",
              "      <td>guarantor</td>\n",
              "      <td>4</td>\n",
              "      <td>if not A121 : building society savings agreeme...</td>\n",
              "      <td>45</td>\n",
              "      <td>none</td>\n",
              "      <td>for free</td>\n",
              "      <td>1</td>\n",
              "      <td>skilled employee / official</td>\n",
              "      <td>2</td>\n",
              "      <td>none</td>\n",
              "      <td>yes</td>\n",
              "    </tr>\n",
              "    <tr>\n",
              "      <th>4</th>\n",
              "      <td>1</td>\n",
              "      <td>&lt; 0 DM</td>\n",
              "      <td>24</td>\n",
              "      <td>delay in paying off in the past</td>\n",
              "      <td>car (new)</td>\n",
              "      <td>4870</td>\n",
              "      <td>... &lt; 100 DM</td>\n",
              "      <td>1 &lt;= ... &lt; 4 years</td>\n",
              "      <td>3</td>\n",
              "      <td>male : single</td>\n",
              "      <td>none</td>\n",
              "      <td>4</td>\n",
              "      <td>unknown / no property</td>\n",
              "      <td>53</td>\n",
              "      <td>none</td>\n",
              "      <td>for free</td>\n",
              "      <td>2</td>\n",
              "      <td>skilled employee / official</td>\n",
              "      <td>2</td>\n",
              "      <td>none</td>\n",
              "      <td>yes</td>\n",
              "    </tr>\n",
              "  </tbody>\n",
              "</table>\n",
              "</div>\n",
              "      <button class=\"colab-df-convert\" onclick=\"convertToInteractive('df-2e6d0d9d-052e-4f58-92fb-a577f3c13682')\"\n",
              "              title=\"Convert this dataframe to an interactive table.\"\n",
              "              style=\"display:none;\">\n",
              "        \n",
              "  <svg xmlns=\"http://www.w3.org/2000/svg\" height=\"24px\"viewBox=\"0 0 24 24\"\n",
              "       width=\"24px\">\n",
              "    <path d=\"M0 0h24v24H0V0z\" fill=\"none\"/>\n",
              "    <path d=\"M18.56 5.44l.94 2.06.94-2.06 2.06-.94-2.06-.94-.94-2.06-.94 2.06-2.06.94zm-11 1L8.5 8.5l.94-2.06 2.06-.94-2.06-.94L8.5 2.5l-.94 2.06-2.06.94zm10 10l.94 2.06.94-2.06 2.06-.94-2.06-.94-.94-2.06-.94 2.06-2.06.94z\"/><path d=\"M17.41 7.96l-1.37-1.37c-.4-.4-.92-.59-1.43-.59-.52 0-1.04.2-1.43.59L10.3 9.45l-7.72 7.72c-.78.78-.78 2.05 0 2.83L4 21.41c.39.39.9.59 1.41.59.51 0 1.02-.2 1.41-.59l7.78-7.78 2.81-2.81c.8-.78.8-2.07 0-2.86zM5.41 20L4 18.59l7.72-7.72 1.47 1.35L5.41 20z\"/>\n",
              "  </svg>\n",
              "      </button>\n",
              "      \n",
              "  <style>\n",
              "    .colab-df-container {\n",
              "      display:flex;\n",
              "      flex-wrap:wrap;\n",
              "      gap: 12px;\n",
              "    }\n",
              "\n",
              "    .colab-df-convert {\n",
              "      background-color: #E8F0FE;\n",
              "      border: none;\n",
              "      border-radius: 50%;\n",
              "      cursor: pointer;\n",
              "      display: none;\n",
              "      fill: #1967D2;\n",
              "      height: 32px;\n",
              "      padding: 0 0 0 0;\n",
              "      width: 32px;\n",
              "    }\n",
              "\n",
              "    .colab-df-convert:hover {\n",
              "      background-color: #E2EBFA;\n",
              "      box-shadow: 0px 1px 2px rgba(60, 64, 67, 0.3), 0px 1px 3px 1px rgba(60, 64, 67, 0.15);\n",
              "      fill: #174EA6;\n",
              "    }\n",
              "\n",
              "    [theme=dark] .colab-df-convert {\n",
              "      background-color: #3B4455;\n",
              "      fill: #D2E3FC;\n",
              "    }\n",
              "\n",
              "    [theme=dark] .colab-df-convert:hover {\n",
              "      background-color: #434B5C;\n",
              "      box-shadow: 0px 1px 3px 1px rgba(0, 0, 0, 0.15);\n",
              "      filter: drop-shadow(0px 1px 2px rgba(0, 0, 0, 0.3));\n",
              "      fill: #FFFFFF;\n",
              "    }\n",
              "  </style>\n",
              "\n",
              "      <script>\n",
              "        const buttonEl =\n",
              "          document.querySelector('#df-2e6d0d9d-052e-4f58-92fb-a577f3c13682 button.colab-df-convert');\n",
              "        buttonEl.style.display =\n",
              "          google.colab.kernel.accessAllowed ? 'block' : 'none';\n",
              "\n",
              "        async function convertToInteractive(key) {\n",
              "          const element = document.querySelector('#df-2e6d0d9d-052e-4f58-92fb-a577f3c13682');\n",
              "          const dataTable =\n",
              "            await google.colab.kernel.invokeFunction('convertToInteractive',\n",
              "                                                     [key], {});\n",
              "          if (!dataTable) return;\n",
              "\n",
              "          const docLinkHtml = 'Like what you see? Visit the ' +\n",
              "            '<a target=\"_blank\" href=https://colab.research.google.com/notebooks/data_table.ipynb>data table notebook</a>'\n",
              "            + ' to learn more about interactive tables.';\n",
              "          element.innerHTML = '';\n",
              "          dataTable['output_type'] = 'display_data';\n",
              "          await google.colab.output.renderOutput(dataTable, element);\n",
              "          const docLink = document.createElement('div');\n",
              "          docLink.innerHTML = docLinkHtml;\n",
              "          element.appendChild(docLink);\n",
              "        }\n",
              "      </script>\n",
              "    </div>\n",
              "  </div>\n",
              "  "
            ],
            "text/plain": [
              "   default  ... trabalhador_estrangeiro\n",
              "0        0  ...                     yes\n",
              "1        1  ...                     yes\n",
              "2        0  ...                     yes\n",
              "3        0  ...                     yes\n",
              "4        1  ...                     yes\n",
              "\n",
              "[5 rows x 21 columns]"
            ]
          },
          "metadata": {},
          "execution_count": 4
        }
      ]
    },
    {
      "cell_type": "code",
      "source": [
        "df.dtypes"
      ],
      "metadata": {
        "colab": {
          "base_uri": "https://localhost:8080/"
        },
        "id": "PAlz_uNg2j_o",
        "outputId": "83d60de3-68ab-43be-af63-9aa48fab07a3"
      },
      "execution_count": 5,
      "outputs": [
        {
          "output_type": "execute_result",
          "data": {
            "text/plain": [
              "default                         int64\n",
              "conta_corrente                 object\n",
              "prazo_emprestimo_meses          int64\n",
              "historico_credito              object\n",
              "proposito_emprestimo           object\n",
              "valor_emprestimo                int64\n",
              "reserva_cc                     object\n",
              "tempo_emprego_atual            object\n",
              "taxa_comp_salario               int64\n",
              "sexo_est_civil                 object\n",
              "outros_fiadores                object\n",
              "anos_residencia_atual           int64\n",
              "propriedade                    object\n",
              "idade                           int64\n",
              "outros_planos_financiamento    object\n",
              "tipo_residencia                object\n",
              "n_creditos_banco                int64\n",
              "status_emprego                 object\n",
              "n_dependentes                   int64\n",
              "telefone                       object\n",
              "trabalhador_estrangeiro        object\n",
              "dtype: object"
            ]
          },
          "metadata": {},
          "execution_count": 5
        }
      ]
    },
    {
      "cell_type": "code",
      "source": [
        "for col in df.columns:\n",
        "  print('Total de valores nulos na coluna {}: {}'.format(col,df[col].isnull().sum()))"
      ],
      "metadata": {
        "colab": {
          "base_uri": "https://localhost:8080/"
        },
        "id": "1ko2l6yc2qyo",
        "outputId": "2c6a85c7-0f3c-4219-94af-bc854345f36e"
      },
      "execution_count": 6,
      "outputs": [
        {
          "output_type": "stream",
          "name": "stdout",
          "text": [
            "Total de valores nulos na coluna default: 0\n",
            "Total de valores nulos na coluna conta_corrente: 0\n",
            "Total de valores nulos na coluna prazo_emprestimo_meses: 0\n",
            "Total de valores nulos na coluna historico_credito: 0\n",
            "Total de valores nulos na coluna proposito_emprestimo: 0\n",
            "Total de valores nulos na coluna valor_emprestimo: 0\n",
            "Total de valores nulos na coluna reserva_cc: 0\n",
            "Total de valores nulos na coluna tempo_emprego_atual: 0\n",
            "Total de valores nulos na coluna taxa_comp_salario: 0\n",
            "Total de valores nulos na coluna sexo_est_civil: 0\n",
            "Total de valores nulos na coluna outros_fiadores: 0\n",
            "Total de valores nulos na coluna anos_residencia_atual: 0\n",
            "Total de valores nulos na coluna propriedade: 0\n",
            "Total de valores nulos na coluna idade: 0\n",
            "Total de valores nulos na coluna outros_planos_financiamento: 0\n",
            "Total de valores nulos na coluna tipo_residencia: 0\n",
            "Total de valores nulos na coluna n_creditos_banco: 0\n",
            "Total de valores nulos na coluna status_emprego: 0\n",
            "Total de valores nulos na coluna n_dependentes: 0\n",
            "Total de valores nulos na coluna telefone: 0\n",
            "Total de valores nulos na coluna trabalhador_estrangeiro: 0\n"
          ]
        }
      ]
    },
    {
      "cell_type": "code",
      "source": [
        "duplicados = df.duplicated()\n",
        "duplicados = duplicados.sum()\n",
        "print('Total de números duplicados no dataset: {}'.format(duplicados))"
      ],
      "metadata": {
        "colab": {
          "base_uri": "https://localhost:8080/"
        },
        "id": "InYfjNxE2vhQ",
        "outputId": "6b49a46b-a2a3-4c4e-ffea-75224daacbe5"
      },
      "execution_count": 7,
      "outputs": [
        {
          "output_type": "stream",
          "name": "stdout",
          "text": [
            "Total de números duplicados no dataset: 0\n"
          ]
        }
      ]
    },
    {
      "cell_type": "markdown",
      "source": [
        "**Análise gráfica das variáveis**"
      ],
      "metadata": {
        "id": "vKLtfdid7HCG"
      }
    },
    {
      "cell_type": "code",
      "source": [
        "def histograma(col):\n",
        "  plt.figure(figsize = (10,10))\n",
        "  sns.countplot(x = col, data = df,  order = df[col].value_counts().index)\n",
        "  plt.xlabel(col)\n",
        "  plt.ylabel('Quantidade')\n",
        "  plt.title('Distribuição ' + col)\n",
        "  plt.show()\n"
      ],
      "metadata": {
        "id": "9BM9JPAH7K42"
      },
      "execution_count": 12,
      "outputs": []
    },
    {
      "cell_type": "code",
      "source": [
        "histograma('prazo_emprestimo_meses')"
      ],
      "metadata": {
        "colab": {
          "base_uri": "https://localhost:8080/",
          "height": 622
        },
        "id": "kZq5Rsul7bMu",
        "outputId": "a81c30e9-79d1-47df-e0dd-acb79f3c7905"
      },
      "execution_count": 13,
      "outputs": [
        {
          "output_type": "display_data",
          "data": {
            "image/png": "[encoded data removed]",
            "text/plain": [
              "<Figure size 720x720 with 1 Axes>"
            ]
          },
          "metadata": {
            "needs_background": "light"
          }
        }
      ]
    },
    {
      "cell_type": "code",
      "source": [
        "histograma('idade')"
      ],
      "metadata": {
        "colab": {
          "base_uri": "https://localhost:8080/",
          "height": 621
        },
        "id": "RRr7jfiP8jJH",
        "outputId": "4318e2b1-f453-49c4-e1c8-9a0e0d390e95"
      },
      "execution_count": 15,
      "outputs": [
        {
          "output_type": "display_data",
          "data": {
            "image/png": "[encoded data removed]",
            "text/plain": [
              "<Figure size 720x720 with 1 Axes>"
            ]
          },
          "metadata": {
            "needs_background": "light"
          }
        }
      ]
    },
    {
      "cell_type": "code",
      "source": [
        "plt.figure(figsize = (10,10))\n",
        "plt.bar(df['prazo_emprestimo_meses'],df['valor_emprestimo'])\n",
        "plt.xlabel('prazo emprestimo (meses)')\n",
        "plt.ylabel('valor do emprestimo (euros)')\n",
        "plt.title('Valor x Prazo em meses')\n",
        "plt.show()"
      ],
      "metadata": {
        "colab": {
          "base_uri": "https://localhost:8080/",
          "height": 621
        },
        "id": "X1MQiimC8yCI",
        "outputId": "35e2ee9d-85ca-4078-ae5d-71cfa08f785a"
      },
      "execution_count": 16,
      "outputs": [
        {
          "output_type": "display_data",
          "data": {
            "image/png": "[encoded data removed]",
            "text/plain": [
              "<Figure size 720x720 with 1 Axes>"
            ]
          },
          "metadata": {
            "needs_background": "light"
          }
        }
      ]
    },
    {
      "cell_type": "code",
      "source": [
        "histograma('default')"
      ],
      "metadata": {
        "colab": {
          "base_uri": "https://localhost:8080/",
          "height": 621
        },
        "id": "zZJp__UU7hxG",
        "outputId": "da62867c-6867-43ca-ff66-c84205a57263"
      },
      "execution_count": 14,
      "outputs": [
        {
          "output_type": "display_data",
          "data": {
            "image/png": "[encoded data removed]",
            "text/plain": [
              "<Figure size 720x720 with 1 Axes>"
            ]
          },
          "metadata": {
            "needs_background": "light"
          }
        }
      ]
    },
    {
      "cell_type": "markdown",
      "source": [
        "Podemos perceber com a ajuda do histograma que a variável default é desbalanceada"
      ],
      "metadata": {
        "id": "D-MGWETR7k5t"
      }
    },
    {
      "cell_type": "markdown",
      "source": [
        "**Criando faixas de classificação**"
      ],
      "metadata": {
        "id": "8v93hIZL8VR_"
      }
    },
    {
      "cell_type": "markdown",
      "source": [
        "Com base nos gráficos acima podemos criar faixas de classificação para as variáveis idade,prazo de empréstimo e valor empréstimo"
      ],
      "metadata": {
        "id": "o4n70cBO863o"
      }
    },
    {
      "cell_type": "code",
      "source": [
        "df['faixa_idade'] = pd.cut(x = df['idade'], bins = [18,30,40,50,60,70,80], labels = [1,2,3,4,5,6])"
      ],
      "metadata": {
        "id": "pfIeWtvn75kZ"
      },
      "execution_count": 17,
      "outputs": []
    },
    {
      "cell_type": "code",
      "source": [
        "df['faixa_prazo_emprestimo'] = pd.cut(x = df['prazo_emprestimo_meses'], bins = [1,12,24,36,48,60,72], labels = [1,2,3,4,5,6])"
      ],
      "metadata": {
        "id": "Qgj-SKE09mb6"
      },
      "execution_count": 18,
      "outputs": []
    },
    {
      "cell_type": "code",
      "source": [
        "df['faixa_valor_emprestimo'] = pd.cut(x = df['valor_emprestimo'], bins = [x  for x in range(0,21000,1000) ], labels = [x  for x in range(1,21,1) ])"
      ],
      "metadata": {
        "id": "Rz9ZDirP9qH5"
      },
      "execution_count": 19,
      "outputs": []
    },
    {
      "cell_type": "markdown",
      "source": [
        "Removendo as variáveis utilizadas nas faixas de classificação, e a variável sexo_est_civil por ser uma informação sensível"
      ],
      "metadata": {
        "id": "OWeHHSfI_3Lo"
      }
    },
    {
      "cell_type": "code",
      "source": [
        "info_drop = ['sexo_est_civil','idade','prazo_emprestimo_meses','valor_emprestimo']\n",
        "df.drop(columns = info_drop, inplace = True)"
      ],
      "metadata": {
        "id": "9YhFXJA8ABi-"
      },
      "execution_count": 20,
      "outputs": []
    },
    {
      "cell_type": "markdown",
      "source": [
        "**Transformando as variáveis do tipo object em númericas usando Label Encoder**"
      ],
      "metadata": {
        "id": "gj6cKbQQAR5I"
      }
    },
    {
      "cell_type": "code",
      "source": [
        "vars_quali = df.dtypes[df.dtypes == object].keys()\n",
        "for col in vars_quali:\n",
        "  label_encoder = LabelEncoder()\n",
        "  strings = list(df[col].values.astype('str'))\n",
        "  label_encoder.fit(strings)\n",
        "  df[col] = label_encoder.transform(strings)"
      ],
      "metadata": {
        "id": "NsgDXiVEAc3Q"
      },
      "execution_count": 22,
      "outputs": []
    },
    {
      "cell_type": "code",
      "source": [
        "df.head()"
      ],
      "metadata": {
        "colab": {
          "base_uri": "https://localhost:8080/",
          "height": 270
        },
        "id": "lLJNPZPNApPK",
        "outputId": "4f1df6ff-288e-4e48-d3bf-9a68e0104181"
      },
      "execution_count": 23,
      "outputs": [
        {
          "output_type": "execute_result",
          "data": {
            "text/html": [
              "\n",
              "  <div id=\"df-dd63688d-ff91-4b7d-a148-34e007f996ce\">\n",
              "    <div class=\"colab-df-container\">\n",
              "      <div>\n",
              "<style scoped>\n",
              "    .dataframe tbody tr th:only-of-type {\n",
              "        vertical-align: middle;\n",
              "    }\n",
              "\n",
              "    .dataframe tbody tr th {\n",
              "        vertical-align: top;\n",
              "    }\n",
              "\n",
              "    .dataframe thead th {\n",
              "        text-align: right;\n",
              "    }\n",
              "</style>\n",
              "<table border=\"1\" class=\"dataframe\">\n",
              "  <thead>\n",
              "    <tr style=\"text-align: right;\">\n",
              "      <th></th>\n",
              "      <th>default</th>\n",
              "      <th>conta_corrente</th>\n",
              "      <th>historico_credito</th>\n",
              "      <th>proposito_emprestimo</th>\n",
              "      <th>reserva_cc</th>\n",
              "      <th>tempo_emprego_atual</th>\n",
              "      <th>taxa_comp_salario</th>\n",
              "      <th>outros_fiadores</th>\n",
              "      <th>anos_residencia_atual</th>\n",
              "      <th>propriedade</th>\n",
              "      <th>outros_planos_financiamento</th>\n",
              "      <th>tipo_residencia</th>\n",
              "      <th>n_creditos_banco</th>\n",
              "      <th>status_emprego</th>\n",
              "      <th>n_dependentes</th>\n",
              "      <th>telefone</th>\n",
              "      <th>trabalhador_estrangeiro</th>\n",
              "      <th>faixa_idade</th>\n",
              "      <th>faixa_prazo_emprestimo</th>\n",
              "      <th>faixa_valor_emprestimo</th>\n",
              "    </tr>\n",
              "  </thead>\n",
              "  <tbody>\n",
              "    <tr>\n",
              "      <th>0</th>\n",
              "      <td>0</td>\n",
              "      <td>1</td>\n",
              "      <td>1</td>\n",
              "      <td>4</td>\n",
              "      <td>4</td>\n",
              "      <td>0</td>\n",
              "      <td>4</td>\n",
              "      <td>2</td>\n",
              "      <td>4</td>\n",
              "      <td>2</td>\n",
              "      <td>1</td>\n",
              "      <td>1</td>\n",
              "      <td>2</td>\n",
              "      <td>1</td>\n",
              "      <td>1</td>\n",
              "      <td>1</td>\n",
              "      <td>1</td>\n",
              "      <td>5</td>\n",
              "      <td>1</td>\n",
              "      <td>2</td>\n",
              "    </tr>\n",
              "    <tr>\n",
              "      <th>1</th>\n",
              "      <td>1</td>\n",
              "      <td>0</td>\n",
              "      <td>3</td>\n",
              "      <td>4</td>\n",
              "      <td>1</td>\n",
              "      <td>2</td>\n",
              "      <td>2</td>\n",
              "      <td>2</td>\n",
              "      <td>2</td>\n",
              "      <td>2</td>\n",
              "      <td>1</td>\n",
              "      <td>1</td>\n",
              "      <td>1</td>\n",
              "      <td>1</td>\n",
              "      <td>1</td>\n",
              "      <td>0</td>\n",
              "      <td>1</td>\n",
              "      <td>1</td>\n",
              "      <td>4</td>\n",
              "      <td>6</td>\n",
              "    </tr>\n",
              "    <tr>\n",
              "      <th>2</th>\n",
              "      <td>0</td>\n",
              "      <td>3</td>\n",
              "      <td>1</td>\n",
              "      <td>0</td>\n",
              "      <td>1</td>\n",
              "      <td>3</td>\n",
              "      <td>2</td>\n",
              "      <td>2</td>\n",
              "      <td>3</td>\n",
              "      <td>2</td>\n",
              "      <td>1</td>\n",
              "      <td>1</td>\n",
              "      <td>1</td>\n",
              "      <td>3</td>\n",
              "      <td>2</td>\n",
              "      <td>0</td>\n",
              "      <td>1</td>\n",
              "      <td>3</td>\n",
              "      <td>1</td>\n",
              "      <td>3</td>\n",
              "    </tr>\n",
              "    <tr>\n",
              "      <th>3</th>\n",
              "      <td>0</td>\n",
              "      <td>1</td>\n",
              "      <td>3</td>\n",
              "      <td>7</td>\n",
              "      <td>1</td>\n",
              "      <td>3</td>\n",
              "      <td>2</td>\n",
              "      <td>1</td>\n",
              "      <td>4</td>\n",
              "      <td>0</td>\n",
              "      <td>1</td>\n",
              "      <td>0</td>\n",
              "      <td>1</td>\n",
              "      <td>1</td>\n",
              "      <td>2</td>\n",
              "      <td>0</td>\n",
              "      <td>1</td>\n",
              "      <td>3</td>\n",
              "      <td>4</td>\n",
              "      <td>8</td>\n",
              "    </tr>\n",
              "    <tr>\n",
              "      <th>4</th>\n",
              "      <td>1</td>\n",
              "      <td>1</td>\n",
              "      <td>2</td>\n",
              "      <td>2</td>\n",
              "      <td>1</td>\n",
              "      <td>2</td>\n",
              "      <td>3</td>\n",
              "      <td>2</td>\n",
              "      <td>4</td>\n",
              "      <td>3</td>\n",
              "      <td>1</td>\n",
              "      <td>0</td>\n",
              "      <td>2</td>\n",
              "      <td>1</td>\n",
              "      <td>2</td>\n",
              "      <td>0</td>\n",
              "      <td>1</td>\n",
              "      <td>4</td>\n",
              "      <td>2</td>\n",
              "      <td>5</td>\n",
              "    </tr>\n",
              "  </tbody>\n",
              "</table>\n",
              "</div>\n",
              "      <button class=\"colab-df-convert\" onclick=\"convertToInteractive('df-dd63688d-ff91-4b7d-a148-34e007f996ce')\"\n",
              "              title=\"Convert this dataframe to an interactive table.\"\n",
              "              style=\"display:none;\">\n",
              "        \n",
              "  <svg xmlns=\"http://www.w3.org/2000/svg\" height=\"24px\"viewBox=\"0 0 24 24\"\n",
              "       width=\"24px\">\n",
              "    <path d=\"M0 0h24v24H0V0z\" fill=\"none\"/>\n",
              "    <path d=\"M18.56 5.44l.94 2.06.94-2.06 2.06-.94-2.06-.94-.94-2.06-.94 2.06-2.06.94zm-11 1L8.5 8.5l.94-2.06 2.06-.94-2.06-.94L8.5 2.5l-.94 2.06-2.06.94zm10 10l.94 2.06.94-2.06 2.06-.94-2.06-.94-.94-2.06-.94 2.06-2.06.94z\"/><path d=\"M17.41 7.96l-1.37-1.37c-.4-.4-.92-.59-1.43-.59-.52 0-1.04.2-1.43.59L10.3 9.45l-7.72 7.72c-.78.78-.78 2.05 0 2.83L4 21.41c.39.39.9.59 1.41.59.51 0 1.02-.2 1.41-.59l7.78-7.78 2.81-2.81c.8-.78.8-2.07 0-2.86zM5.41 20L4 18.59l7.72-7.72 1.47 1.35L5.41 20z\"/>\n",
              "  </svg>\n",
              "      </button>\n",
              "      \n",
              "  <style>\n",
              "    .colab-df-container {\n",
              "      display:flex;\n",
              "      flex-wrap:wrap;\n",
              "      gap: 12px;\n",
              "    }\n",
              "\n",
              "    .colab-df-convert {\n",
              "      background-color: #E8F0FE;\n",
              "      border: none;\n",
              "      border-radius: 50%;\n",
              "      cursor: pointer;\n",
              "      display: none;\n",
              "      fill: #1967D2;\n",
              "      height: 32px;\n",
              "      padding: 0 0 0 0;\n",
              "      width: 32px;\n",
              "    }\n",
              "\n",
              "    .colab-df-convert:hover {\n",
              "      background-color: #E2EBFA;\n",
              "      box-shadow: 0px 1px 2px rgba(60, 64, 67, 0.3), 0px 1px 3px 1px rgba(60, 64, 67, 0.15);\n",
              "      fill: #174EA6;\n",
              "    }\n",
              "\n",
              "    [theme=dark] .colab-df-convert {\n",
              "      background-color: #3B4455;\n",
              "      fill: #D2E3FC;\n",
              "    }\n",
              "\n",
              "    [theme=dark] .colab-df-convert:hover {\n",
              "      background-color: #434B5C;\n",
              "      box-shadow: 0px 1px 3px 1px rgba(0, 0, 0, 0.15);\n",
              "      filter: drop-shadow(0px 1px 2px rgba(0, 0, 0, 0.3));\n",
              "      fill: #FFFFFF;\n",
              "    }\n",
              "  </style>\n",
              "\n",
              "      <script>\n",
              "        const buttonEl =\n",
              "          document.querySelector('#df-dd63688d-ff91-4b7d-a148-34e007f996ce button.colab-df-convert');\n",
              "        buttonEl.style.display =\n",
              "          google.colab.kernel.accessAllowed ? 'block' : 'none';\n",
              "\n",
              "        async function convertToInteractive(key) {\n",
              "          const element = document.querySelector('#df-dd63688d-ff91-4b7d-a148-34e007f996ce');\n",
              "          const dataTable =\n",
              "            await google.colab.kernel.invokeFunction('convertToInteractive',\n",
              "                                                     [key], {});\n",
              "          if (!dataTable) return;\n",
              "\n",
              "          const docLinkHtml = 'Like what you see? Visit the ' +\n",
              "            '<a target=\"_blank\" href=https://colab.research.google.com/notebooks/data_table.ipynb>data table notebook</a>'\n",
              "            + ' to learn more about interactive tables.';\n",
              "          element.innerHTML = '';\n",
              "          dataTable['output_type'] = 'display_data';\n",
              "          await google.colab.output.renderOutput(dataTable, element);\n",
              "          const docLink = document.createElement('div');\n",
              "          docLink.innerHTML = docLinkHtml;\n",
              "          element.appendChild(docLink);\n",
              "        }\n",
              "      </script>\n",
              "    </div>\n",
              "  </div>\n",
              "  "
            ],
            "text/plain": [
              "   default  conta_corrente  ...  faixa_prazo_emprestimo  faixa_valor_emprestimo\n",
              "0        0               1  ...                       1                       2\n",
              "1        1               0  ...                       4                       6\n",
              "2        0               3  ...                       1                       3\n",
              "3        0               1  ...                       4                       8\n",
              "4        1               1  ...                       2                       5\n",
              "\n",
              "[5 rows x 20 columns]"
            ]
          },
          "metadata": {},
          "execution_count": 23
        }
      ]
    },
    {
      "cell_type": "markdown",
      "source": [
        "**Criando o modelo de regressão logística**"
      ],
      "metadata": {
        "id": "PfT5gpGrA36I"
      }
    },
    {
      "cell_type": "code",
      "source": [
        "def my_model(dataset,classifier, kbest = False):\n",
        "  y = dataset['default']\n",
        "  X = dataset.drop(columns = 'default')\n",
        "  seed = 25\n",
        "  X_train,X_test,y_train,y_test = train_test_split(X,y, test_size = 0.3, random_state = seed)\n",
        "  \n",
        "  if kbest:\n",
        "    selectkbest = SelectKBest(chi2, k = 5)\n",
        "    selectkbest.fit(X_train,y_train)\n",
        "    X_train = selectkbest.transform(X_train)\n",
        "    X_test = selectkbest.transform(X_test)\n",
        "  \n",
        "  model = classifier\n",
        "  model.fit(X_train,y_train)\n",
        "\n",
        "  matriz = plot_confusion_matrix(model,X_train,y_train, values_format = '.3g',cmap = 'Blues')\n",
        "  plt.title('Matrix de confusão')\n",
        "  plt.show()\n",
        "\n",
        "  predict = model.predict(X_test)\n",
        "  print('\\n Classification Report:')\n",
        "  print(classification_report(y_test,predict))\n",
        "\n",
        "  prob_predict = model.predict_proba(X_test)[:,1]\n",
        "  tfp,tvp,limite = roc_curve(y_test,prob_predict)\n",
        "  print('roc_auc:',roc_auc_score(y_test,prob_predict))\n",
        "\n",
        "  plt.subplots(1,figsize = (5,5))\n",
        "  plt.title('Curva roc')\n",
        "  plt.plot(tfp,tvp)\n",
        "  plt.xlabel('Especificidade')\n",
        "  plt.ylabel('Sensibilidade')\n",
        "  plt.plot([0,1], ls = '--',c = 'red')\n",
        "  plt.plot([0,0],[0,1], ls = '--',c = 'green'),plt.plot([1,1], ls = '--', c = 'green')\n",
        "  plt.show()\n",
        "\n",
        "  return model,matriz\n"
      ],
      "metadata": {
        "id": "ek8LYN6FA-Cn"
      },
      "execution_count": 25,
      "outputs": []
    },
    {
      "cell_type": "code",
      "source": [
        "lg = my_model(df,LogisticRegression(max_iter=1000))"
      ],
      "metadata": {
        "colab": {
          "base_uri": "https://localhost:8080/",
          "height": 891
        },
        "id": "TS2_iG4DCoDc",
        "outputId": "b4692853-f56f-4fd0-afd2-c1eb8029366e"
      },
      "execution_count": 27,
      "outputs": [
        {
          "output_type": "stream",
          "name": "stderr",
          "text": [
            "/usr/local/lib/python3.7/dist-packages/sklearn/utils/deprecation.py:87: FutureWarning: Function plot_confusion_matrix is deprecated; Function `plot_confusion_matrix` is deprecated in 1.0 and will be removed in 1.2. Use one of the class methods: ConfusionMatrixDisplay.from_predictions or ConfusionMatrixDisplay.from_estimator.\n",
            "  warnings.warn(msg, category=FutureWarning)\n"
          ]
        },
        {
          "output_type": "display_data",
          "data": {
            "image/png": "[encoded data removed]",
            "text/plain": [
              "<Figure size 432x288 with 2 Axes>"
            ]
          },
          "metadata": {
            "needs_background": "light"
          }
        },
        {
          "output_type": "stream",
          "name": "stdout",
          "text": [
            "\n",
            " Classification Report:\n",
            "              precision    recall  f1-score   support\n",
            "\n",
            "           0       0.76      0.87      0.81       213\n",
            "           1       0.51      0.33      0.40        87\n",
            "\n",
            "    accuracy                           0.71       300\n",
            "   macro avg       0.64      0.60      0.61       300\n",
            "weighted avg       0.69      0.71      0.69       300\n",
            "\n",
            "roc_auc: 0.7287248394582052\n"
          ]
        },
        {
          "output_type": "display_data",
          "data": {
            "image/png": "[encoded data removed]",
            "text/plain": [
              "<Figure size 360x360 with 1 Axes>"
            ]
          },
          "metadata": {
            "needs_background": "light"
          }
        }
      ]
    },
    {
      "cell_type": "code",
      "source": [
        "lg_kbest = my_model(df,LogisticRegression(max_iter=1000), kbest= True)"
      ],
      "metadata": {
        "colab": {
          "base_uri": "https://localhost:8080/",
          "height": 891
        },
        "id": "xahBrF1XC446",
        "outputId": "a368e9b0-d6c5-458d-a2e0-9624e8d3224b"
      },
      "execution_count": 28,
      "outputs": [
        {
          "output_type": "stream",
          "name": "stderr",
          "text": [
            "/usr/local/lib/python3.7/dist-packages/sklearn/utils/deprecation.py:87: FutureWarning: Function plot_confusion_matrix is deprecated; Function `plot_confusion_matrix` is deprecated in 1.0 and will be removed in 1.2. Use one of the class methods: ConfusionMatrixDisplay.from_predictions or ConfusionMatrixDisplay.from_estimator.\n",
            "  warnings.warn(msg, category=FutureWarning)\n"
          ]
        },
        {
          "output_type": "display_data",
          "data": {
            "image/png": "[encoded data removed]",
            "text/plain": [
              "<Figure size 432x288 with 2 Axes>"
            ]
          },
          "metadata": {
            "needs_background": "light"
          }
        },
        {
          "output_type": "stream",
          "name": "stdout",
          "text": [
            "\n",
            " Classification Report:\n",
            "              precision    recall  f1-score   support\n",
            "\n",
            "           0       0.75      0.86      0.80       213\n",
            "           1       0.46      0.29      0.35        87\n",
            "\n",
            "    accuracy                           0.70       300\n",
            "   macro avg       0.61      0.58      0.58       300\n",
            "weighted avg       0.67      0.70      0.67       300\n",
            "\n",
            "roc_auc: 0.7177162592412712\n"
          ]
        },
        {
          "output_type": "display_data",
          "data": {
            "image/png": "[encoded data removed]",
            "text/plain": [
              "<Figure size 360x360 with 1 Axes>"
            ]
          },
          "metadata": {
            "needs_background": "light"
          }
        }
      ]
    },
    {
      "cell_type": "markdown",
      "source": [
        "**Modelo Decision Tree**"
      ],
      "metadata": {
        "id": "W4i2z9dxDrbA"
      }
    },
    {
      "cell_type": "code",
      "source": [
        "dt = my_model(df,DecisionTreeClassifier(random_state = 25))"
      ],
      "metadata": {
        "colab": {
          "base_uri": "https://localhost:8080/",
          "height": 891
        },
        "id": "CI2ahZAsDzi6",
        "outputId": "572356fd-52df-4882-84bf-8c4360cb83ae"
      },
      "execution_count": 32,
      "outputs": [
        {
          "output_type": "stream",
          "name": "stderr",
          "text": [
            "/usr/local/lib/python3.7/dist-packages/sklearn/utils/deprecation.py:87: FutureWarning: Function plot_confusion_matrix is deprecated; Function `plot_confusion_matrix` is deprecated in 1.0 and will be removed in 1.2. Use one of the class methods: ConfusionMatrixDisplay.from_predictions or ConfusionMatrixDisplay.from_estimator.\n",
            "  warnings.warn(msg, category=FutureWarning)\n"
          ]
        },
        {
          "output_type": "display_data",
          "data": {
            "image/png": "[encoded data removed]",
            "text/plain": [
              "<Figure size 432x288 with 2 Axes>"
            ]
          },
          "metadata": {
            "needs_background": "light"
          }
        },
        {
          "output_type": "stream",
          "name": "stdout",
          "text": [
            "\n",
            " Classification Report:\n",
            "              precision    recall  f1-score   support\n",
            "\n",
            "           0       0.75      0.78      0.76       213\n",
            "           1       0.41      0.37      0.39        87\n",
            "\n",
            "    accuracy                           0.66       300\n",
            "   macro avg       0.58      0.57      0.58       300\n",
            "weighted avg       0.65      0.66      0.65       300\n",
            "\n",
            "roc_auc: 0.5720954076952134\n"
          ]
        },
        {
          "output_type": "display_data",
          "data": {
            "image/png": "[encoded data removed]",
            "text/plain": [
              "<Figure size 360x360 with 1 Axes>"
            ]
          },
          "metadata": {
            "needs_background": "light"
          }
        }
      ]
    },
    {
      "cell_type": "code",
      "source": [
        "dt_kbest = my_model(df,DecisionTreeClassifier(random_state = 25), kbest= True)"
      ],
      "metadata": {
        "colab": {
          "base_uri": "https://localhost:8080/",
          "height": 891
        },
        "id": "wcuFkJCbEpD2",
        "outputId": "dc722029-b127-4cb1-a2e0-7deeb8232e4b"
      },
      "execution_count": 33,
      "outputs": [
        {
          "output_type": "stream",
          "name": "stderr",
          "text": [
            "/usr/local/lib/python3.7/dist-packages/sklearn/utils/deprecation.py:87: FutureWarning: Function plot_confusion_matrix is deprecated; Function `plot_confusion_matrix` is deprecated in 1.0 and will be removed in 1.2. Use one of the class methods: ConfusionMatrixDisplay.from_predictions or ConfusionMatrixDisplay.from_estimator.\n",
            "  warnings.warn(msg, category=FutureWarning)\n"
          ]
        },
        {
          "output_type": "display_data",
          "data": {
            "image/png": "[encoded data removed]",
            "text/plain": [
              "<Figure size 432x288 with 2 Axes>"
            ]
          },
          "metadata": {
            "needs_background": "light"
          }
        },
        {
          "output_type": "stream",
          "name": "stdout",
          "text": [
            "\n",
            " Classification Report:\n",
            "              precision    recall  f1-score   support\n",
            "\n",
            "           0       0.77      0.85      0.81       213\n",
            "           1       0.51      0.39      0.44        87\n",
            "\n",
            "    accuracy                           0.71       300\n",
            "   macro avg       0.64      0.62      0.62       300\n",
            "weighted avg       0.70      0.71      0.70       300\n",
            "\n",
            "roc_auc: 0.6490475419567212\n"
          ]
        },
        {
          "output_type": "display_data",
          "data": {
            "image/png": "[encoded data removed]",
            "text/plain": [
              "<Figure size 360x360 with 1 Axes>"
            ]
          },
          "metadata": {
            "needs_background": "light"
          }
        }
      ]
    },
    {
      "cell_type": "markdown",
      "source": [
        "**Conclusões**"
      ],
      "metadata": {
        "id": "djtKzqkHFObR"
      }
    },
    {
      "cell_type": "markdown",
      "source": [
        "\n",
        "\n",
        "*   Em razão do dataset ter a variável resposta desbalanceada (existem muitos mais casos de reprovação do que aprovação) a acurácia do modelo não é uma boa métrica para esse caso\n",
        "*   Na redução de dimensionalidade usando o SelectKBest houve uma redução na precisão, porém o modelo requer uma quantidade menor de dados\n",
        "*   O modelo de Logistic Regression se mostrou superior ao Decision Tree Classifier\n",
        "*   Mesmo com a remoção de informações sensíveis o modelo conseguiu um desempenho satisfatório\n",
        "\n",
        "\n",
        "\n",
        "\n",
        "\n",
        "\n",
        "\n",
        "\n",
        "\n",
        "\n",
        "\n"
      ],
      "metadata": {
        "id": "xT6Tp3v4FoV5"
      }
    }
  ]
}